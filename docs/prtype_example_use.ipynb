{
 "cells": [
  {
   "metadata": {},
   "cell_type": "markdown",
   "source": "This script runs through some simple examples of how to use the prtype functions to create precipitation type data arrays based on a combination of a pysteps blended nowcast and snow level, temperature, and ground temperature data taken from a different model, such as INCA or COSMO. In these examples, INCA data is used."
  },
  {
   "cell_type": "code",
   "metadata": {
    "ExecuteTime": {
     "end_time": "2024-07-18T14:33:44.055402Z",
     "start_time": "2024-07-18T14:33:42.325599Z"
    }
   },
   "source": [
    "# Import the required functions from prtype, and the Importer designed to import the files of your model\n",
    "# in this case we use the example GRIB importer provided\n",
    "\n",
    "from pysteps_postprocessor_diagnostics_prtype.postprocessor.postprocessor_diagnostics_prtype import *\n",
    "from example_importer import *\n",
    "import datetime"
   ],
   "outputs": [
    {
     "name": "stdout",
     "output_type": "stream",
     "text": [
      "Pysteps configuration file found at: C:\\Users\\josep\\anaconda3\\Lib\\site-packages\\pysteps\\pystepsrc\n",
      "\n"
     ]
    }
   ],
   "execution_count": 1
  },
  {
   "metadata": {},
   "cell_type": "markdown",
   "source": "Define the input parameters"
  },
  {
   "metadata": {
    "ExecuteTime": {
     "end_time": "2024-07-18T14:33:45.175219Z",
     "start_time": "2024-07-18T14:33:45.161666Z"
    }
   },
   "cell_type": "code",
   "source": [
    "# NetCDF4 file path\n",
    "filename = \"insert path and filename of the netCDF file here\"\n",
    "\n",
    "# Start date and time of the data\n",
    "startdate = datetime.datetime.strptime('202201080000', \"%Y%m%d%H%M\")\n",
    "\n",
    "# INCA topography file path\n",
    "# Note that the topography file should be a DEM in text format, only including the array data\n",
    "topo = \"insert path and filename of the topography file here\"\n",
    "\n",
    "# The projection string for the pySTEPS data\n",
    "nwc_projection_string = 'insert the nowcast projection string here'\n",
    "\n",
    "# The number of members to plot over time\n",
    "members = 2\n",
    "\n",
    "# The base length of time over which to plot\n",
    "timeBase = 60\n",
    "\n",
    "# The length of the time steps\n",
    "timeStep = 5\n",
    "\n",
    "# Choose whether we require the topographical file to be interpolated\n",
    "topo_interpolation = False"
   ],
   "outputs": [],
   "execution_count": 2
  },
  {
   "metadata": {},
   "cell_type": "markdown",
   "source": "Import the snow level, temperature, ground temperature, and model metadata from the INCA files"
  },
  {
   "metadata": {},
   "cell_type": "code",
   "outputs": [],
   "execution_count": null,
   "source": [
    "# A list of the names of the GRIB import selection keys\n",
    "keys = ['Nx', 'Ny', 'latitudeOfFirstGridPointInDegrees', 'longitudeOfFirstGridPointInDegrees', 'earthIsOblate',\n",
    "        'LoVInDegrees', 'DxInMetres', 'DyInMetres', 'iScansNegatively', 'jScansPositively', 'Latin1InDegrees',\n",
    "        'Latin2InDegrees']"
   ]
  },
  {
   "metadata": {
    "ExecuteTime": {
     "end_time": "2024-07-18T14:33:49.033430Z",
     "start_time": "2024-07-18T14:33:48.924948Z"
    }
   },
   "cell_type": "code",
   "source": [
    "# Import the snow level data\n",
    "importer = IncaGribImporter()\n",
    "incaDictionary_ZS = importer.retrieve_grib_data(filename=r\"insert path and filename of snow level grb file here\", metadata_keys=keys)\n",
    "\n",
    "# Transform to a 3D matrix\n",
    "snowLevelData = importer.inca_dictionary_to_3Dmatrix(incaDictionary_ZS)\n",
    "del importer"
   ],
   "outputs": [],
   "execution_count": 3
  },
  {
   "metadata": {
    "ExecuteTime": {
     "end_time": "2024-07-18T14:33:52.175761Z",
     "start_time": "2024-07-18T14:33:52.064376Z"
    }
   },
   "cell_type": "code",
   "source": [
    "# Import the temperature data\n",
    "importer = IncaGribImporter()\n",
    "incaDictionary_TT = importer.retrieve_grib_data(filename=r\"insert path and filename of temperature grb file here\", metadata_keys=keys)\n",
    "\n",
    "# Transform to a 3D matrix\n",
    "temperatureData = importer.inca_dictionary_to_3Dmatrix(incaDictionary_TT)\n",
    "\n",
    "# Transform Kelvin to Celsius\n",
    "temperatureData[:, :, :] = temperatureData[:, :, :] - 273.15\n",
    "del importer"
   ],
   "outputs": [],
   "execution_count": 4
  },
  {
   "metadata": {
    "ExecuteTime": {
     "end_time": "2024-07-18T14:33:54.980404Z",
     "start_time": "2024-07-18T14:33:54.856334Z"
    }
   },
   "cell_type": "code",
   "source": [
    "# import the ground temperature data\n",
    "importer = IncaGribImporter()\n",
    "incaDictionary_TG = importer.retrieve_grib_data(filename=r\"insert path and filename of ground temperature grb file here\", metadata_keys=keys)\n",
    "\n",
    "# Transform to a 3D matrix\n",
    "groundTemperatureData = importer.inca_dictionary_to_3Dmatrix(incaDictionary_TG)\n",
    "\n",
    "# Transform Kelvin to Celsius\n",
    "groundTemperatureData[:, :, :] = groundTemperatureData[:, :, :] - 273.15\n",
    "\n",
    "del importer"
   ],
   "outputs": [],
   "execution_count": 5
  },
  {
   "metadata": {
    "ExecuteTime": {
     "end_time": "2024-07-18T14:12:08.006650Z",
     "start_time": "2024-07-18T14:12:07.987119Z"
    }
   },
   "cell_type": "code",
   "source": "print(incaDictionary_ZS)",
   "outputs": [
    {
     "name": "stdout",
     "output_type": "stream",
     "text": [
      "{'Metadata': {'Nx': 601, 'Ny': 591, 'latitudeOfFirstGridPointInDegrees': 47.896, 'longitudeOfFirstGridPointInDegrees': 0.492, 'earthIsOblate': 1, 'LoVInDegrees': 4.359, 'DxInMetres': 1000, 'DyInMetres': 1000, 'iScansNegatively': 0, 'jScansPositively': 1, 'Latin1InDegrees': 49.833, 'Latin2InDegrees': 51.167}, 'Messages': {1: {'Attributes': {}, 'Grid': array([[   0.,    0.,    0., ...,  106.,  106.,  106.],\n",
      "       [   0.,    0.,    0., ...,  106.,  106.,  107.],\n",
      "       [   0.,    0.,    0., ...,  107.,  107.,  107.],\n",
      "       ...,\n",
      "       [1031., 1030., 1029., ...,  239.,  235.,  231.],\n",
      "       [1033., 1032., 1031., ...,  237.,  233.,  229.],\n",
      "       [1035., 1034., 1033., ...,  235.,  231.,  227.]])}, 2: {'Attributes': {}, 'Grid': array([[   0.,    0.,    0., ...,  103.,  104.,  105.],\n",
      "       [   0.,    0.,    0., ...,  102.,  102.,  103.],\n",
      "       [   0.,    0.,    0., ...,  102.,  102.,  102.],\n",
      "       ...,\n",
      "       [1029., 1028., 1027., ...,  233.,  229.,  226.],\n",
      "       [1030., 1029., 1028., ...,  230.,  226.,  223.],\n",
      "       [1031., 1031., 1030., ...,  226.,  222.,  219.]])}, 3: {'Attributes': {}, 'Grid': array([[   0.,    0.,    0., ...,   94.,   95.,   97.],\n",
      "       [   0.,    0.,    0., ...,   88.,   89.,   90.],\n",
      "       [   0.,    0.,    0., ...,   85.,   86.,   87.],\n",
      "       ...,\n",
      "       [1033., 1031., 1030., ...,  250.,  246.,  242.],\n",
      "       [1035., 1034., 1032., ...,  250.,  246.,  241.],\n",
      "       [1038., 1037., 1035., ...,  251.,  245.,  241.]])}, 4: {'Attributes': {}, 'Grid': array([[  64.,   54.,   40., ...,   83.,   84.,   87.],\n",
      "       [  79.,   72.,   62., ...,   75.,   76.,   78.],\n",
      "       [  88.,   82.,   74., ...,   71.,   72.,   73.],\n",
      "       ...,\n",
      "       [1050., 1048., 1046., ...,  286.,  280.,  275.],\n",
      "       [1053., 1051., 1050., ...,  288.,  282.,  276.],\n",
      "       [1058., 1056., 1054., ...,  292.,  285.,  279.]])}, 5: {'Attributes': {}, 'Grid': array([[  50.,   64.,   74., ...,   66.,   67.,   70.],\n",
      "       [  63.,   77.,   79., ...,   57.,   58.,   60.],\n",
      "       [  70.,   82.,   85., ...,   53.,   54.,   55.],\n",
      "       ...,\n",
      "       [1146., 1141., 1137., ...,  355.,  350.,  344.],\n",
      "       [1157., 1151., 1146., ...,  363.,  358.,  351.],\n",
      "       [1171., 1165., 1160., ...,  374.,  368.,  361.]])}, 6: {'Attributes': {}, 'Grid': array([[ 118.,  137.,  138., ...,   40.,   41.,   43.],\n",
      "       [ 119.,  139.,  144., ...,   33.,   34.,   35.],\n",
      "       [ 117.,  137.,  144., ...,   30.,   31.,   32.],\n",
      "       ...,\n",
      "       [1125., 1127., 1128., ...,  365.,  362.,  359.],\n",
      "       [1127., 1129., 1131., ...,  372.,  369.,  366.],\n",
      "       [1130., 1133., 1135., ...,  381.,  378.,  375.]])}, 7: {'Attributes': {}, 'Grid': array([[   0.,    0.,    0., ...,    0.,    0.,    0.],\n",
      "       [   0.,    0.,    0., ...,    0.,    0.,    0.],\n",
      "       [   0.,    0.,    0., ...,    0.,    0.,    0.],\n",
      "       ...,\n",
      "       [1262., 1262., 1262., ...,  426.,  425.,  425.],\n",
      "       [1263., 1263., 1263., ...,  429.,  428.,  428.],\n",
      "       [1264., 1264., 1265., ...,  433.,  432.,  432.]])}, 8: {'Attributes': {}, 'Grid': array([[   0.,    0.,    0., ...,    0.,    0.,    0.],\n",
      "       [   0.,    0.,    0., ...,    0.,    0.,    0.],\n",
      "       [   0.,    0.,    0., ...,    0.,    0.,    0.],\n",
      "       ...,\n",
      "       [1185., 1185., 1185., ...,  380.,  380.,  380.],\n",
      "       [1186., 1185., 1185., ...,  382.,  382.,  382.],\n",
      "       [1187., 1186., 1186., ...,  384.,  384.,  385.]])}, 9: {'Attributes': {}, 'Grid': array([[ 953.,  951.,  949., ...,    0.,    0.,    0.],\n",
      "       [ 953.,  951.,  949., ...,    0.,    0.,    0.],\n",
      "       [ 952.,  950.,  948., ...,    0.,    0.,    0.],\n",
      "       ...,\n",
      "       [1157., 1155., 1153., ...,  265.,  265.,  265.],\n",
      "       [1158., 1156., 1154., ...,  267.,  268.,  268.],\n",
      "       [1158., 1156., 1154., ...,  271.,  272.,  272.]])}, 10: {'Attributes': {}, 'Grid': array([[1130., 1129., 1128., ...,    0.,    0.,    0.],\n",
      "       [1129., 1128., 1128., ...,    0.,    0.,    0.],\n",
      "       [1128., 1128., 1127., ...,    0.,    0.,    0.],\n",
      "       ...,\n",
      "       [1180., 1180., 1181., ...,  209.,  210.,  210.],\n",
      "       [1180., 1181., 1182., ...,  213.,  213.,  214.],\n",
      "       [1181., 1182., 1182., ...,  218.,  218.,  219.]])}, 11: {'Attributes': {}, 'Grid': array([[1215., 1215., 1215., ...,    0.,    0.,    0.],\n",
      "       [1214., 1214., 1215., ...,    0.,    0.,    0.],\n",
      "       [1214., 1214., 1214., ...,    0.,    0.,    0.],\n",
      "       ...,\n",
      "       [1117., 1117., 1116., ...,  264.,  263.,  261.],\n",
      "       [1116., 1116., 1116., ...,  266.,  265.,  264.],\n",
      "       [1115., 1114., 1114., ...,  270.,  269.,  268.]])}, 12: {'Attributes': {}, 'Grid': array([[1239., 1241., 1242., ...,    0.,    0.,    0.],\n",
      "       [1240., 1241., 1242., ...,    0.,    0.,    0.],\n",
      "       [1241., 1242., 1243., ...,    0.,    0.,    0.],\n",
      "       ...,\n",
      "       [1282., 1282., 1281., ...,  333.,  333.,  333.],\n",
      "       [1282., 1281., 1281., ...,  335.,  335.,  336.],\n",
      "       [1282., 1281., 1280., ...,  338.,  339.,  340.]])}, 13: {'Attributes': {}, 'Grid': array([[1174., 1174., 1174., ...,   31.,   31.,   31.],\n",
      "       [1173., 1173., 1173., ...,   30.,   30.,   30.],\n",
      "       [1173., 1173., 1173., ...,   30.,   30.,   30.],\n",
      "       ...,\n",
      "       [1255., 1254., 1253., ...,  349.,  349.,  349.],\n",
      "       [1255., 1254., 1253., ...,  350.,  351.,  352.],\n",
      "       [1256., 1255., 1254., ...,  353.,  354.,  356.]])}}}\n"
     ]
    }
   ],
   "execution_count": 7
  },
  {
   "metadata": {},
   "cell_type": "markdown",
   "source": "Define the model metadata. This can be extracted from your model data or defined directly"
  },
  {
   "metadata": {
    "ExecuteTime": {
     "end_time": "2024-07-18T14:33:59.501643Z",
     "start_time": "2024-07-18T14:33:59.492618Z"
    }
   },
   "cell_type": "code",
   "source": [
    "projection_bounds = \"insert model projection bounds here in the form [x1, y1, x2, y2]\"\n",
    "\n",
    "modelMetadataDictionary = {'projection': 'insert model projection string here', 'xpixelsize': incaDictionary_ZS['Metadata']['DxInMetres'],\n",
    "                     'ypixelsize': incaDictionary_ZS['Metadata']['DyInMetres'], 'x1': projection_bounds[0],\n",
    "                     'y1': projection_bounds[1], 'x2': projection_bounds[2], 'y2': projection_bounds[3],\n",
    "                     'yorigin': 'upper'}"
   ],
   "outputs": [],
   "execution_count": 6
  },
  {
   "metadata": {},
   "cell_type": "markdown",
   "source": "Example 1: Output the precipitation type data from 2 members at all time steps"
  },
  {
   "metadata": {
    "ExecuteTime": {
     "end_time": "2024-07-18T14:55:06.535046Z",
     "start_time": "2024-07-18T14:54:27.466060Z"
    }
   },
   "cell_type": "code",
   "source": [
    "\"\"\"\n",
    "Example 1\n",
    "\"\"\"\n",
    "# Choose your desired output. This choice will return a 3D array (time stamp, X-Coord, Y-Coord) for each member\n",
    "desired_output = 'members'\n",
    "\n",
    "# This array list will be a 4D array containing the precipitation type at each pixel for each time step for each member\n",
    "array_list = postprocessor_diagnostics_prtype(filename=filename,\n",
    "                                             startdate=startdate,\n",
    "                                             snowLevelData=snowLevelData,\n",
    "                                             temperatureData=temperatureData,\n",
    "                                             groundTemperatureData=groundTemperatureData,\n",
    "                                             modelMetadataDictionary=modelMetadataDictionary,\n",
    "                                             topoFilename=topo,\n",
    "                                             nwc_projectionString=nwc_projection_string,\n",
    "                                             members=members,\n",
    "                                             timeBase=60,\n",
    "                                             timeStep=5,\n",
    "                                             topo_interpolation=topo_interpolation,\n",
    "                                             desired_output=desired_output)"
   ],
   "outputs": [
    {
     "name": "stdout",
     "output_type": "stream",
     "text": [
      "Data load done\n",
      "Topography load done\n",
      "netCDF4 load done\n",
      "Re-projection done\n",
      "Interpolation done!\n",
      "Calculate precipitation type per member over time...\n",
      "Calculating precipitation types at:  2022-01-08 00:00:00\n",
      "Calculating precipitation types at:  2022-01-08 00:05:00\n",
      "Calculating precipitation types at:  2022-01-08 00:10:00\n",
      "Calculating precipitation types at:  2022-01-08 00:15:00\n",
      "Calculating precipitation types at:  2022-01-08 00:20:00\n",
      "Calculating precipitation types at:  2022-01-08 00:25:00\n",
      "Calculating precipitation types at:  2022-01-08 00:30:00\n",
      "Calculating precipitation types at:  2022-01-08 00:35:00\n",
      "Calculating precipitation types at:  2022-01-08 00:40:00\n",
      "Calculating precipitation types at:  2022-01-08 00:45:00\n",
      "Calculating precipitation types at:  2022-01-08 00:50:00\n",
      "Calculating precipitation types at:  2022-01-08 00:55:00\n",
      "Calculating precipitation types at:  2022-01-08 01:00:00\n",
      "Calculating precipitation types at:  2022-01-08 01:05:00\n",
      "Calculating precipitation types at:  2022-01-08 01:10:00\n",
      "Calculating precipitation types at:  2022-01-08 01:15:00\n",
      "Calculating precipitation types at:  2022-01-08 01:20:00\n",
      "Calculating precipitation types at:  2022-01-08 01:25:00\n",
      "Calculating precipitation types at:  2022-01-08 01:30:00\n",
      "Calculating precipitation types at:  2022-01-08 01:35:00\n",
      "Calculating precipitation types at:  2022-01-08 01:40:00\n",
      "Calculating precipitation types at:  2022-01-08 01:45:00\n",
      "Calculating precipitation types at:  2022-01-08 01:50:00\n",
      "Calculating precipitation types at:  2022-01-08 01:55:00\n",
      "Calculating precipitation types at:  2022-01-08 02:00:00\n",
      "Calculating precipitation types at:  2022-01-08 02:05:00\n",
      "Calculating precipitation types at:  2022-01-08 02:10:00\n",
      "Calculating precipitation types at:  2022-01-08 02:15:00\n",
      "Calculating precipitation types at:  2022-01-08 02:20:00\n",
      "Calculating precipitation types at:  2022-01-08 02:25:00\n",
      "Calculating precipitation types at:  2022-01-08 02:30:00\n",
      "Calculating precipitation types at:  2022-01-08 02:35:00\n",
      "Calculating precipitation types at:  2022-01-08 02:40:00\n",
      "Calculating precipitation types at:  2022-01-08 02:45:00\n",
      "Calculating precipitation types at:  2022-01-08 02:50:00\n",
      "Calculating precipitation types at:  2022-01-08 02:55:00\n",
      "Calculating precipitation types at:  2022-01-08 03:00:00\n",
      "Calculating precipitation types at:  2022-01-08 03:05:00\n",
      "Calculating precipitation types at:  2022-01-08 03:10:00\n",
      "Calculating precipitation types at:  2022-01-08 03:15:00\n",
      "Calculating precipitation types at:  2022-01-08 03:20:00\n",
      "Calculating precipitation types at:  2022-01-08 03:25:00\n",
      "Calculating precipitation types at:  2022-01-08 03:30:00\n",
      "Calculating precipitation types at:  2022-01-08 03:35:00\n",
      "Calculating precipitation types at:  2022-01-08 03:40:00\n",
      "Calculating precipitation types at:  2022-01-08 03:45:00\n",
      "Calculating precipitation types at:  2022-01-08 03:50:00\n",
      "Calculating precipitation types at:  2022-01-08 03:55:00\n",
      "Calculating precipitation types at:  2022-01-08 04:00:00\n",
      "Calculating precipitation types at:  2022-01-08 04:05:00\n",
      "Calculating precipitation types at:  2022-01-08 04:10:00\n",
      "Calculating precipitation types at:  2022-01-08 04:15:00\n",
      "Calculating precipitation types at:  2022-01-08 04:20:00\n",
      "Calculating precipitation types at:  2022-01-08 04:25:00\n",
      "Calculating precipitation types at:  2022-01-08 04:30:00\n",
      "Calculating precipitation types at:  2022-01-08 04:35:00\n",
      "Calculating precipitation types at:  2022-01-08 04:40:00\n",
      "Calculating precipitation types at:  2022-01-08 04:45:00\n",
      "Calculating precipitation types at:  2022-01-08 04:50:00\n",
      "Calculating precipitation types at:  2022-01-08 04:55:00\n",
      "Calculating precipitation types at:  2022-01-08 05:00:00\n",
      "Calculating precipitation types at:  2022-01-08 05:05:00\n",
      "Calculating precipitation types at:  2022-01-08 05:10:00\n",
      "Calculating precipitation types at:  2022-01-08 05:15:00\n",
      "Calculating precipitation types at:  2022-01-08 05:20:00\n",
      "Calculating precipitation types at:  2022-01-08 05:25:00\n",
      "Calculating precipitation types at:  2022-01-08 05:30:00\n",
      "Calculating precipitation types at:  2022-01-08 05:35:00\n",
      "Calculating precipitation types at:  2022-01-08 05:40:00\n",
      "Calculating precipitation types at:  2022-01-08 05:45:00\n",
      "Calculating precipitation types at:  2022-01-08 05:50:00\n",
      "Calculating precipitation types at:  2022-01-08 05:55:00\n",
      "Calculating precipitation types at:  2022-01-08 06:00:00\n",
      "--Script finished--\n",
      "--- 14.211613178253174 seconds ---\n"
     ]
    }
   ],
   "execution_count": 11
  },
  {
   "metadata": {
    "ExecuteTime": {
     "end_time": "2024-07-18T14:39:21.169097Z",
     "start_time": "2024-07-18T14:39:21.156388Z"
    }
   },
   "cell_type": "code",
   "source": "print(array_list.shape)",
   "outputs": [
    {
     "name": "stdout",
     "output_type": "stream",
     "text": [
      "(2, 73, 591, 601)\n"
     ]
    }
   ],
   "execution_count": 9
  },
  {
   "metadata": {},
   "cell_type": "markdown",
   "source": "Example 2: Output the mean precipitation type at every time step across all members"
  },
  {
   "metadata": {
    "ExecuteTime": {
     "end_time": "2024-07-18T14:57:25.274284Z",
     "start_time": "2024-07-18T14:56:42.070668Z"
    }
   },
   "cell_type": "code",
   "source": [
    "\"\"\"\n",
    "Example 2\n",
    "\"\"\"\n",
    "# This time we will output the mean precipitation type across all members\n",
    "desired_output = 'mean'\n",
    "\n",
    "# This array list will be a 3D array containing the mean precipitation type at each pixel at each time step across all members\n",
    "array_list_2 = postprocessor_diagnostics_prtype(filename=filename,\n",
    "                                                 startdate=startdate,\n",
    "                                                 snowLevelData=snowLevelData,\n",
    "                                                 temperatureData=temperatureData,\n",
    "                                                 groundTemperatureData=groundTemperatureData,\n",
    "                                                 modelMetadataDictionary=modelMetadataDictionary,\n",
    "                                                 topoFilename=topo,\n",
    "                                                 nwc_projectionString=nwc_projection_string,\n",
    "                                                 members=members,\n",
    "                                                 timeBase=60,\n",
    "                                                 timeStep=5,\n",
    "                                                 topo_interpolation=topo_interpolation,\n",
    "                                                 desired_output=desired_output)"
   ],
   "outputs": [
    {
     "name": "stdout",
     "output_type": "stream",
     "text": [
      "Data load done\n",
      "Topography load done\n",
      "netCDF4 load done\n",
      "Re-projection done\n",
      "Interpolation done!\n",
      "Calculate precipitation type per member over time...\n",
      "Calculating precipitation types at:  2022-01-08 00:00:00\n",
      "Calculating precipitation types at:  2022-01-08 00:05:00\n",
      "Calculating precipitation types at:  2022-01-08 00:10:00\n",
      "Calculating precipitation types at:  2022-01-08 00:15:00\n",
      "Calculating precipitation types at:  2022-01-08 00:20:00\n",
      "Calculating precipitation types at:  2022-01-08 00:25:00\n",
      "Calculating precipitation types at:  2022-01-08 00:30:00\n",
      "Calculating precipitation types at:  2022-01-08 00:35:00\n",
      "Calculating precipitation types at:  2022-01-08 00:40:00\n",
      "Calculating precipitation types at:  2022-01-08 00:45:00\n",
      "Calculating precipitation types at:  2022-01-08 00:50:00\n",
      "Calculating precipitation types at:  2022-01-08 00:55:00\n",
      "Calculating precipitation types at:  2022-01-08 01:00:00\n",
      "Calculating precipitation types at:  2022-01-08 01:05:00\n",
      "Calculating precipitation types at:  2022-01-08 01:10:00\n",
      "Calculating precipitation types at:  2022-01-08 01:15:00\n",
      "Calculating precipitation types at:  2022-01-08 01:20:00\n",
      "Calculating precipitation types at:  2022-01-08 01:25:00\n",
      "Calculating precipitation types at:  2022-01-08 01:30:00\n",
      "Calculating precipitation types at:  2022-01-08 01:35:00\n",
      "Calculating precipitation types at:  2022-01-08 01:40:00\n",
      "Calculating precipitation types at:  2022-01-08 01:45:00\n",
      "Calculating precipitation types at:  2022-01-08 01:50:00\n",
      "Calculating precipitation types at:  2022-01-08 01:55:00\n",
      "Calculating precipitation types at:  2022-01-08 02:00:00\n",
      "Calculating precipitation types at:  2022-01-08 02:05:00\n",
      "Calculating precipitation types at:  2022-01-08 02:10:00\n",
      "Calculating precipitation types at:  2022-01-08 02:15:00\n",
      "Calculating precipitation types at:  2022-01-08 02:20:00\n",
      "Calculating precipitation types at:  2022-01-08 02:25:00\n",
      "Calculating precipitation types at:  2022-01-08 02:30:00\n",
      "Calculating precipitation types at:  2022-01-08 02:35:00\n",
      "Calculating precipitation types at:  2022-01-08 02:40:00\n",
      "Calculating precipitation types at:  2022-01-08 02:45:00\n",
      "Calculating precipitation types at:  2022-01-08 02:50:00\n",
      "Calculating precipitation types at:  2022-01-08 02:55:00\n",
      "Calculating precipitation types at:  2022-01-08 03:00:00\n",
      "Calculating precipitation types at:  2022-01-08 03:05:00\n",
      "Calculating precipitation types at:  2022-01-08 03:10:00\n",
      "Calculating precipitation types at:  2022-01-08 03:15:00\n",
      "Calculating precipitation types at:  2022-01-08 03:20:00\n",
      "Calculating precipitation types at:  2022-01-08 03:25:00\n",
      "Calculating precipitation types at:  2022-01-08 03:30:00\n",
      "Calculating precipitation types at:  2022-01-08 03:35:00\n",
      "Calculating precipitation types at:  2022-01-08 03:40:00\n",
      "Calculating precipitation types at:  2022-01-08 03:45:00\n",
      "Calculating precipitation types at:  2022-01-08 03:50:00\n",
      "Calculating precipitation types at:  2022-01-08 03:55:00\n",
      "Calculating precipitation types at:  2022-01-08 04:00:00\n",
      "Calculating precipitation types at:  2022-01-08 04:05:00\n",
      "Calculating precipitation types at:  2022-01-08 04:10:00\n",
      "Calculating precipitation types at:  2022-01-08 04:15:00\n",
      "Calculating precipitation types at:  2022-01-08 04:20:00\n",
      "Calculating precipitation types at:  2022-01-08 04:25:00\n",
      "Calculating precipitation types at:  2022-01-08 04:30:00\n",
      "Calculating precipitation types at:  2022-01-08 04:35:00\n",
      "Calculating precipitation types at:  2022-01-08 04:40:00\n",
      "Calculating precipitation types at:  2022-01-08 04:45:00\n",
      "Calculating precipitation types at:  2022-01-08 04:50:00\n",
      "Calculating precipitation types at:  2022-01-08 04:55:00\n",
      "Calculating precipitation types at:  2022-01-08 05:00:00\n",
      "Calculating precipitation types at:  2022-01-08 05:05:00\n",
      "Calculating precipitation types at:  2022-01-08 05:10:00\n",
      "Calculating precipitation types at:  2022-01-08 05:15:00\n",
      "Calculating precipitation types at:  2022-01-08 05:20:00\n",
      "Calculating precipitation types at:  2022-01-08 05:25:00\n",
      "Calculating precipitation types at:  2022-01-08 05:30:00\n",
      "Calculating precipitation types at:  2022-01-08 05:35:00\n",
      "Calculating precipitation types at:  2022-01-08 05:40:00\n",
      "Calculating precipitation types at:  2022-01-08 05:45:00\n",
      "Calculating precipitation types at:  2022-01-08 05:50:00\n",
      "Calculating precipitation types at:  2022-01-08 05:55:00\n",
      "Calculating precipitation types at:  2022-01-08 06:00:00\n",
      "--Script finished--\n",
      "--- 6.9216835498809814 seconds ---\n"
     ]
    }
   ],
   "execution_count": 12
  },
  {
   "metadata": {
    "ExecuteTime": {
     "end_time": "2024-07-18T14:57:33.785906Z",
     "start_time": "2024-07-18T14:57:33.762859Z"
    }
   },
   "cell_type": "code",
   "source": "print(array_list_2)",
   "outputs": [
    {
     "name": "stdout",
     "output_type": "stream",
     "text": [
      "[[[0. 0. 0. ... 0. 0. 0.]\n",
      "  [0. 0. 0. ... 0. 0. 0.]\n",
      "  [0. 0. 0. ... 0. 0. 0.]\n",
      "  ...\n",
      "  [0. 0. 0. ... 0. 0. 0.]\n",
      "  [0. 0. 0. ... 0. 0. 0.]\n",
      "  [0. 0. 0. ... 0. 0. 0.]]\n",
      "\n",
      " [[0. 0. 0. ... 0. 0. 0.]\n",
      "  [0. 0. 0. ... 0. 0. 0.]\n",
      "  [0. 0. 0. ... 0. 0. 0.]\n",
      "  ...\n",
      "  [0. 0. 0. ... 0. 0. 0.]\n",
      "  [0. 0. 0. ... 0. 0. 0.]\n",
      "  [0. 0. 0. ... 0. 0. 0.]]\n",
      "\n",
      " [[0. 0. 0. ... 0. 0. 0.]\n",
      "  [0. 0. 0. ... 0. 0. 0.]\n",
      "  [0. 0. 0. ... 0. 0. 0.]\n",
      "  ...\n",
      "  [0. 0. 0. ... 0. 0. 0.]\n",
      "  [0. 0. 0. ... 0. 0. 0.]\n",
      "  [0. 0. 0. ... 0. 0. 0.]]\n",
      "\n",
      " ...\n",
      "\n",
      " [[0. 0. 0. ... 0. 0. 0.]\n",
      "  [0. 0. 0. ... 0. 0. 0.]\n",
      "  [0. 0. 0. ... 0. 0. 0.]\n",
      "  ...\n",
      "  [0. 0. 0. ... 4. 4. 4.]\n",
      "  [0. 0. 0. ... 4. 4. 4.]\n",
      "  [0. 0. 0. ... 4. 4. 4.]]\n",
      "\n",
      " [[0. 0. 0. ... 0. 0. 0.]\n",
      "  [0. 0. 0. ... 0. 0. 0.]\n",
      "  [0. 0. 0. ... 0. 0. 0.]\n",
      "  ...\n",
      "  [0. 0. 0. ... 4. 4. 4.]\n",
      "  [0. 0. 0. ... 4. 4. 4.]\n",
      "  [0. 0. 0. ... 4. 4. 4.]]\n",
      "\n",
      " [[0. 0. 0. ... 0. 0. 0.]\n",
      "  [0. 0. 0. ... 0. 0. 0.]\n",
      "  [0. 0. 0. ... 0. 0. 0.]\n",
      "  ...\n",
      "  [0. 0. 0. ... 0. 0. 0.]\n",
      "  [0. 0. 0. ... 0. 4. 4.]\n",
      "  [0. 0. 0. ... 4. 4. 4.]]]\n"
     ]
    }
   ],
   "execution_count": 13
  },
  {
   "metadata": {
    "ExecuteTime": {
     "end_time": "2024-07-18T14:57:47.193322Z",
     "start_time": "2024-07-18T14:57:47.182652Z"
    }
   },
   "cell_type": "code",
   "source": "print(array_list_2.shape)",
   "outputs": [
    {
     "name": "stdout",
     "output_type": "stream",
     "text": [
      "(73, 591, 601)\n"
     ]
    }
   ],
   "execution_count": 14
  },
  {
   "metadata": {},
   "cell_type": "markdown",
   "source": "Example 3: Create plots and a gif of the precipitation type data from one of the ensemble members produced in Example 1"
  },
  {
   "metadata": {
    "ExecuteTime": {
     "end_time": "2024-07-18T15:00:41.080806Z",
     "start_time": "2024-07-18T14:59:54.198971Z"
    }
   },
   "cell_type": "code",
   "source": [
    "\"\"\"\n",
    "Example 3\n",
    "\"\"\"\n",
    "\n",
    "import imageio\n",
    "from datetime import timedelta\n",
    "# In this example we will plot the precipitation type data from one of the ensemble members produced in Example 1.\n",
    "# This example can be easily adjusted to plot the mean data instead.\n",
    "\n",
    "# Specify the output directory\n",
    "output_dir = \"Add the path to your desired output directory\"\n",
    "# Choose the index of the member to plot.\n",
    "member = 0\n",
    "# Create an array of the time stamps\n",
    "timestamp_idxs = []\n",
    "time = startdate\n",
    "for i in range(0, len(array_list[member])):\n",
    "    timestamp_idxs.append(time)\n",
    "    time += timedelta(minutes=timeStep)\n",
    "\n",
    "# Plot members\n",
    "filenames = []\n",
    "for ts in range(len(array_list[member])):\n",
    "    # Plot\n",
    "    filenames.append(plot_ptype(array_list[member, ts, :, :], modelMetadataDictionary, ts, timestamp_idxs[ts], output_dir))\n",
    "\n",
    "print(\"Plots created\")\n",
    "kargs = {'duration': 0.4}\n",
    "with imageio.get_writer(\n",
    "        os.path.join(output_dir, (\n",
    "                str(member) + '_' + startdate.strftime('%Y%m%d%H%M') + '.gif')), mode='I',\n",
    "        **kargs) as writer:\n",
    "    for file in filenames:\n",
    "        image = imageio.imread_v2(os.path.join(output_dir, file))\n",
    "        writer.append_data(image)\n",
    "\n",
    "# Close gif writer\n",
    "writer.close()\n",
    "print(\"Gif created\")"
   ],
   "outputs": [
    {
     "name": "stdout",
     "output_type": "stream",
     "text": [
      "Plots created\n",
      "Gif created\n"
     ]
    }
   ],
   "execution_count": 16
  }
 ],
 "metadata": {
  "kernelspec": {
   "display_name": "Python 3",
   "language": "python",
   "name": "python3"
  },
  "language_info": {
   "codemirror_mode": {
    "name": "ipython",
    "version": 3
   },
   "file_extension": ".py",
   "mimetype": "text/x-python",
   "name": "python",
   "nbconvert_exporter": "python",
   "pygments_lexer": "ipython3",
   "version": "3.11.9"
  }
 },
 "nbformat": 4,
 "nbformat_minor": 2
}
